{
  "nbformat": 4,
  "nbformat_minor": 0,
  "metadata": {
    "colab": {
      "name": "Neural style transfer in KerasV1.ipynb",
      "provenance": [],
      "include_colab_link": true
    },
    "kernelspec": {
      "name": "python3",
      "display_name": "Python 3"
    }
  },
  "cells": [
    {
      "cell_type": "markdown",
      "metadata": {
        "id": "view-in-github",
        "colab_type": "text"
      },
      "source": [
        "<a href=\"https://colab.research.google.com/github/Riponcs/Deep_Learning/blob/master/Neural_style_transfer_in_KerasV1.ipynb\" target=\"_parent\"><img src=\"https://colab.research.google.com/assets/colab-badge.svg\" alt=\"Open In Colab\"/></a>"
      ]
    },
    {
      "cell_type": "code",
      "metadata": {
        "id": "f8y74z7jMy4J",
        "colab_type": "code",
        "colab": {
          "base_uri": "https://localhost:8080/",
          "height": 34
        },
        "outputId": "628e3836-e0c3-48db-97cb-eeb07c0e7a65"
      },
      "source": [
        "from google.colab import drive\n",
        "drive.mount('/content/drive')"
      ],
      "execution_count": 1,
      "outputs": [
        {
          "output_type": "stream",
          "text": [
            "Drive already mounted at /content/drive; to attempt to forcibly remount, call drive.mount(\"/content/drive\", force_remount=True).\n"
          ],
          "name": "stdout"
        }
      ]
    },
    {
      "cell_type": "code",
      "metadata": {
        "id": "LIYoHxBHLfFY",
        "colab_type": "code",
        "colab": {
          "base_uri": "https://localhost:8080/",
          "height": 80
        },
        "outputId": "49eec4bf-eecb-4c38-bed0-13588f169353"
      },
      "source": [
        "from keras.preprocessing.image import load_img, img_to_array\n",
        "target_image_path = '/content/drive/My Drive/AdvancedDeepLearning/korea.jpeg'\n",
        "style_reference_image_path = '/content/drive/My Drive/AdvancedDeepLearning/style.jpg'\n",
        "width, height = load_img(target_image_path).size\n",
        "img_height = 400\n",
        "img_width = int(width * img_height / height)"
      ],
      "execution_count": 2,
      "outputs": [
        {
          "output_type": "stream",
          "text": [
            "Using TensorFlow backend.\n"
          ],
          "name": "stderr"
        },
        {
          "output_type": "display_data",
          "data": {
            "text/html": [
              "<p style=\"color: red;\">\n",
              "The default version of TensorFlow in Colab will soon switch to TensorFlow 2.x.<br>\n",
              "We recommend you <a href=\"https://www.tensorflow.org/guide/migrate\" target=\"_blank\">upgrade</a> now \n",
              "or ensure your notebook will continue to use TensorFlow 1.x via the <code>%tensorflow_version 1.x</code> magic:\n",
              "<a href=\"https://colab.research.google.com/notebooks/tensorflow_version.ipynb\" target=\"_blank\">more info</a>.</p>\n"
            ],
            "text/plain": [
              "<IPython.core.display.HTML object>"
            ]
          },
          "metadata": {
            "tags": []
          }
        }
      ]
    },
    {
      "cell_type": "code",
      "metadata": {
        "id": "44jCdLJiLkxF",
        "colab_type": "code",
        "colab": {}
      },
      "source": [
        "import numpy as np\n",
        "from keras.applications import vgg19\n",
        "def preprocess_image(image_path):\n",
        "  img = load_img(image_path, target_size=(img_height, img_width))\n",
        "  img = img_to_array(img)\n",
        "  img = np.expand_dims(img, axis=0)\n",
        "  img = vgg19.preprocess_input(img)\n",
        "  return img"
      ],
      "execution_count": 0,
      "outputs": []
    },
    {
      "cell_type": "code",
      "metadata": {
        "id": "sgTLkZBZQgOX",
        "colab_type": "code",
        "colab": {}
      },
      "source": [
        "def deprocess_image(x):\n",
        "  x[:, :, 0] += 103.939\n",
        "  x[:, :, 1] += 116.779\n",
        "  x[:, :, 2] += 123.68\n",
        "  x = x[:, :, ::-1]\n",
        "  x = np.clip(x, 0, 255).astype('uint8')\n",
        "  return x"
      ],
      "execution_count": 0,
      "outputs": []
    },
    {
      "cell_type": "code",
      "metadata": {
        "id": "63Bn3bhCQm7d",
        "colab_type": "code",
        "colab": {
          "base_uri": "https://localhost:8080/",
          "height": 374
        },
        "outputId": "0bd2c55d-6d50-461f-d06a-5d0e413bbc63"
      },
      "source": [
        "from keras import backend as K\n",
        "target_image = K.constant(preprocess_image(target_image_path))\n",
        "style_reference_image = K.constant(preprocess_image(style_reference_image_path))\n",
        "combination_image = K.placeholder((1, img_height, img_width, 3))\n",
        "input_tensor = K.concatenate([target_image,\n",
        "style_reference_image,\n",
        "combination_image], axis=0)\n",
        "model = vgg19.VGG19(input_tensor=input_tensor,\n",
        "weights='imagenet',\n",
        "include_top=False)\n",
        "print('Model loaded.')"
      ],
      "execution_count": 5,
      "outputs": [
        {
          "output_type": "stream",
          "text": [
            "WARNING:tensorflow:From /usr/local/lib/python3.6/dist-packages/keras/backend/tensorflow_backend.py:541: The name tf.placeholder is deprecated. Please use tf.compat.v1.placeholder instead.\n",
            "\n",
            "WARNING:tensorflow:From /usr/local/lib/python3.6/dist-packages/keras/backend/tensorflow_backend.py:66: The name tf.get_default_graph is deprecated. Please use tf.compat.v1.get_default_graph instead.\n",
            "\n",
            "WARNING:tensorflow:From /usr/local/lib/python3.6/dist-packages/keras/backend/tensorflow_backend.py:4432: The name tf.random_uniform is deprecated. Please use tf.random.uniform instead.\n",
            "\n",
            "WARNING:tensorflow:From /usr/local/lib/python3.6/dist-packages/keras/backend/tensorflow_backend.py:4267: The name tf.nn.max_pool is deprecated. Please use tf.nn.max_pool2d instead.\n",
            "\n",
            "WARNING:tensorflow:From /usr/local/lib/python3.6/dist-packages/keras/backend/tensorflow_backend.py:190: The name tf.get_default_session is deprecated. Please use tf.compat.v1.get_default_session instead.\n",
            "\n",
            "WARNING:tensorflow:From /usr/local/lib/python3.6/dist-packages/keras/backend/tensorflow_backend.py:197: The name tf.ConfigProto is deprecated. Please use tf.compat.v1.ConfigProto instead.\n",
            "\n",
            "WARNING:tensorflow:From /usr/local/lib/python3.6/dist-packages/keras/backend/tensorflow_backend.py:203: The name tf.Session is deprecated. Please use tf.compat.v1.Session instead.\n",
            "\n",
            "WARNING:tensorflow:From /usr/local/lib/python3.6/dist-packages/keras/backend/tensorflow_backend.py:207: The name tf.global_variables is deprecated. Please use tf.compat.v1.global_variables instead.\n",
            "\n",
            "WARNING:tensorflow:From /usr/local/lib/python3.6/dist-packages/keras/backend/tensorflow_backend.py:216: The name tf.is_variable_initialized is deprecated. Please use tf.compat.v1.is_variable_initialized instead.\n",
            "\n",
            "WARNING:tensorflow:From /usr/local/lib/python3.6/dist-packages/keras/backend/tensorflow_backend.py:223: The name tf.variables_initializer is deprecated. Please use tf.compat.v1.variables_initializer instead.\n",
            "\n",
            "Model loaded.\n"
          ],
          "name": "stdout"
        }
      ]
    },
    {
      "cell_type": "code",
      "metadata": {
        "id": "EL-SlpbnQqel",
        "colab_type": "code",
        "colab": {}
      },
      "source": [
        "def content_loss(base, combination):\n",
        "  return K.sum(K.square(combination - base))"
      ],
      "execution_count": 0,
      "outputs": []
    },
    {
      "cell_type": "code",
      "metadata": {
        "id": "2LE24nOFQuNd",
        "colab_type": "code",
        "colab": {}
      },
      "source": [
        "def gram_matrix(x):\n",
        "  features = K.batch_flatten(K.permute_dimensions(x, (2, 0, 1)))\n",
        "  gram = K.dot(features, K.transpose(features))\n",
        "  return gram"
      ],
      "execution_count": 0,
      "outputs": []
    },
    {
      "cell_type": "code",
      "metadata": {
        "id": "ndzxxFAsQv6l",
        "colab_type": "code",
        "colab": {}
      },
      "source": [
        "def style_loss(style, combination):\n",
        "  S = gram_matrix(style)\n",
        "  C = gram_matrix(combination)\n",
        "  channels = 3\n",
        "  size = img_height * img_width\n",
        "  return K.sum(K.square(S - C)) / (4. * (channels ** 2) * (size ** 2))"
      ],
      "execution_count": 0,
      "outputs": []
    },
    {
      "cell_type": "code",
      "metadata": {
        "id": "DHwQhiw6Qxrt",
        "colab_type": "code",
        "colab": {}
      },
      "source": [
        "def total_variation_loss(x):\n",
        "  a = K.square(x[:, :img_height - 1, :img_width - 1, :] -x[:, 1:, :img_width - 1, :])\n",
        "  b = K.square(x[:, :img_height - 1, :img_width - 1, :] -x[:, :img_height - 1, 1:, :])\n",
        "  return K.sum(K.pow(a + b, 1.25))"
      ],
      "execution_count": 0,
      "outputs": []
    },
    {
      "cell_type": "code",
      "metadata": {
        "id": "NRrsieY7Q_yt",
        "colab_type": "code",
        "colab": {}
      },
      "source": [
        "outputs_dict = dict([(layer.name, layer.output) for layer in model.layers])\n",
        "content_layer = 'block5_conv2'\n",
        "style_layers = ['block1_conv1', 'block2_conv1', 'block3_conv1', 'block4_conv1', 'block5_conv1']\n",
        "total_variation_weight = 1e-4\n",
        "style_weight = 1.\n",
        "content_weight = 0.025"
      ],
      "execution_count": 0,
      "outputs": []
    },
    {
      "cell_type": "code",
      "metadata": {
        "id": "dGaIRRrgREid",
        "colab_type": "code",
        "colab": {
          "base_uri": "https://localhost:8080/",
          "height": 34
        },
        "outputId": "c2909209-8d4f-4a28-83ea-6ff53e1b21f8"
      },
      "source": [
        "loss = K.variable(0.)\n",
        "layer_features = outputs_dict[content_layer]\n",
        "target_image_features = layer_features[0, :, :, :]\n",
        "combination_features = layer_features[2, :, :, :]\n",
        "loss += content_weight * content_loss(target_image_features, combination_features)"
      ],
      "execution_count": 11,
      "outputs": [
        {
          "output_type": "stream",
          "text": [
            "WARNING:tensorflow:Variable += will be deprecated. Use variable.assign_add if you want assignment to the variable value or 'x = x + y' if you want a new python Tensor object.\n"
          ],
          "name": "stdout"
        }
      ]
    },
    {
      "cell_type": "code",
      "metadata": {
        "id": "VQfkVgUxRHDN",
        "colab_type": "code",
        "colab": {}
      },
      "source": [
        "for layer_name in style_layers:\n",
        "  layer_features = outputs_dict[layer_name]\n",
        "  style_reference_features = layer_features[1, :, :, :]\n",
        "  combination_features = layer_features[2, :, :, :]\n",
        "  sl = style_loss(style_reference_features, combination_features)\n",
        "  loss += (style_weight / len(style_layers)) * sl\n",
        "loss += total_variation_weight * total_variation_loss(combination_image)"
      ],
      "execution_count": 0,
      "outputs": []
    },
    {
      "cell_type": "code",
      "metadata": {
        "id": "l0wUKK8uRK-F",
        "colab_type": "code",
        "colab": {
          "base_uri": "https://localhost:8080/",
          "height": 68
        },
        "outputId": "f6769963-4757-4a63-ebb6-c3ed899213e5"
      },
      "source": [
        "grads = K.gradients(loss, combination_image)[0]\n",
        "fetch_loss_and_grads = K.function([combination_image], [loss, grads])\n",
        "class Evaluator(object):\n",
        "  def __init__(self):\n",
        "    self.loss_value = None\n",
        "    self.grads_values = None\n",
        "  def loss(self, x):\n",
        "    assert self.loss_value is None\n",
        "    x = x.reshape((1, img_height, img_width, 3))\n",
        "    outs = fetch_loss_and_grads([x])\n",
        "    loss_value = outs[0]\n",
        "    grad_values = outs[1].flatten().astype('float64')\n",
        "    self.loss_value = loss_value\n",
        "    self.grad_values = grad_values\n",
        "    return self.loss_value\n",
        "  def grads(self, x):\n",
        "    assert self.loss_value is not None\n",
        "    grad_values = np.copy(self.grad_values)\n",
        "    self.loss_value = None\n",
        "    self.grad_values = None\n",
        "    return grad_values\n",
        "evaluator = Evaluator()"
      ],
      "execution_count": 13,
      "outputs": [
        {
          "output_type": "stream",
          "text": [
            "WARNING:tensorflow:From /usr/local/lib/python3.6/dist-packages/tensorflow_core/python/ops/math_grad.py:1375: where (from tensorflow.python.ops.array_ops) is deprecated and will be removed in a future version.\n",
            "Instructions for updating:\n",
            "Use tf.where in 2.0, which has the same broadcast rule as np.where\n"
          ],
          "name": "stdout"
        }
      ]
    },
    {
      "cell_type": "code",
      "metadata": {
        "id": "jB6LuebwSGFI",
        "colab_type": "code",
        "colab": {}
      },
      "source": [
        "# Need to Install scipy V 1.2.0 [uninstal scipy-1.3.2 autometically]\n",
        "# !pip install -U scipy==1.3.2"
      ],
      "execution_count": 0,
      "outputs": []
    },
    {
      "cell_type": "code",
      "metadata": {
        "id": "05KysmEbRbDt",
        "colab_type": "code",
        "colab": {
          "base_uri": "https://localhost:8080/",
          "height": 1000
        },
        "outputId": "63f671bd-32aa-48d1-aa0f-c6ac59ccc237"
      },
      "source": [
        "from scipy.optimize import fmin_l_bfgs_b\n",
        "#from scipy.misc import imsave\n",
        "import imageio # Add in addition\n",
        "import time\n",
        "\n",
        "result_prefix = 'my_result'\n",
        "iterations = 20\n",
        "\n",
        "x = preprocess_image(target_image_path)\n",
        "x = x.flatten()\n",
        "\n",
        "for i in range(iterations):\n",
        "  print('Start of iteration', i)\n",
        "  start_time = time.time()\n",
        "  x, min_val, info = fmin_l_bfgs_b(evaluator.loss, x, fprime=evaluator.grads, maxfun=20)\n",
        "  print('Current loss value:', min_val)\n",
        "  img = x.copy().reshape((img_height, img_width, 3))\n",
        "  img = deprocess_image(img)\n",
        "  fname = result_prefix + '_at_iteration_%d.png' % i\n",
        "  imageio.imwrite(fname, img) #imsave(fname, img)\n",
        "  print('Image saved as', fname)\n",
        "  end_time = time.time()\n",
        "  print('Iteration %d completed in %ds' % (i, end_time - start_time))"
      ],
      "execution_count": 16,
      "outputs": [
        {
          "output_type": "stream",
          "text": [
            "Start of iteration 0\n",
            "Current loss value: 5881991700.0\n",
            "Image saved as my_result_at_iteration_0.png\n",
            "Iteration 0 completed in 430s\n",
            "Start of iteration 1\n",
            "Current loss value: 2804597800.0\n",
            "Image saved as my_result_at_iteration_1.png\n",
            "Iteration 1 completed in 428s\n",
            "Start of iteration 2\n",
            "Current loss value: 2083039100.0\n",
            "Image saved as my_result_at_iteration_2.png\n",
            "Iteration 2 completed in 428s\n",
            "Start of iteration 3\n",
            "Current loss value: 1749662500.0\n",
            "Image saved as my_result_at_iteration_3.png\n",
            "Iteration 3 completed in 428s\n",
            "Start of iteration 4\n",
            "Current loss value: 1541341200.0\n",
            "Image saved as my_result_at_iteration_4.png\n",
            "Iteration 4 completed in 430s\n",
            "Start of iteration 5\n",
            "Current loss value: 1399904800.0\n",
            "Image saved as my_result_at_iteration_5.png\n",
            "Iteration 5 completed in 428s\n",
            "Start of iteration 6\n",
            "Current loss value: 1299631400.0\n",
            "Image saved as my_result_at_iteration_6.png\n",
            "Iteration 6 completed in 427s\n",
            "Start of iteration 7\n",
            "Current loss value: 1215574300.0\n",
            "Image saved as my_result_at_iteration_7.png\n",
            "Iteration 7 completed in 429s\n",
            "Start of iteration 8\n",
            "Current loss value: 1101548700.0\n",
            "Image saved as my_result_at_iteration_8.png\n",
            "Iteration 8 completed in 428s\n",
            "Start of iteration 9\n",
            "Current loss value: 1023307460.0\n",
            "Image saved as my_result_at_iteration_9.png\n",
            "Iteration 9 completed in 425s\n",
            "Start of iteration 10\n",
            "Current loss value: 950658560.0\n",
            "Image saved as my_result_at_iteration_10.png\n",
            "Iteration 10 completed in 428s\n",
            "Start of iteration 11\n",
            "Current loss value: 893475800.0\n",
            "Image saved as my_result_at_iteration_11.png\n",
            "Iteration 11 completed in 431s\n",
            "Start of iteration 12\n",
            "Current loss value: 812503940.0\n",
            "Image saved as my_result_at_iteration_12.png\n",
            "Iteration 12 completed in 429s\n",
            "Start of iteration 13\n",
            "Current loss value: 758588400.0\n",
            "Image saved as my_result_at_iteration_13.png\n",
            "Iteration 13 completed in 432s\n",
            "Start of iteration 14\n",
            "Current loss value: 690351700.0\n",
            "Image saved as my_result_at_iteration_14.png\n",
            "Iteration 14 completed in 429s\n",
            "Start of iteration 15\n",
            "Current loss value: 645239600.0\n",
            "Image saved as my_result_at_iteration_15.png\n",
            "Iteration 15 completed in 426s\n",
            "Start of iteration 16\n",
            "Current loss value: 600356300.0\n",
            "Image saved as my_result_at_iteration_16.png\n",
            "Iteration 16 completed in 428s\n",
            "Start of iteration 17\n",
            "Current loss value: 567390660.0\n",
            "Image saved as my_result_at_iteration_17.png\n",
            "Iteration 17 completed in 431s\n",
            "Start of iteration 18\n",
            "Current loss value: 536039840.0\n",
            "Image saved as my_result_at_iteration_18.png\n",
            "Iteration 18 completed in 428s\n",
            "Start of iteration 19\n",
            "Current loss value: 510403550.0\n",
            "Image saved as my_result_at_iteration_19.png\n",
            "Iteration 19 completed in 428s\n"
          ],
          "name": "stdout"
        }
      ]
    },
    {
      "cell_type": "code",
      "metadata": {
        "id": "Vyz2AXto1He_",
        "colab_type": "code",
        "colab": {}
      },
      "source": [
        "imageio.imsave('/content/drive/My Drive/AdvancedDeepLearning/koreaStyle.jpeg', img)"
      ],
      "execution_count": 0,
      "outputs": []
    },
    {
      "cell_type": "code",
      "metadata": {
        "id": "0Z73KC661LKG",
        "colab_type": "code",
        "colab": {}
      },
      "source": [
        ""
      ],
      "execution_count": 0,
      "outputs": []
    }
  ]
}